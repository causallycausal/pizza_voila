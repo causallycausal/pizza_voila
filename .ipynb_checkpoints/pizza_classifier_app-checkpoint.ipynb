{
 "cells": [
  {
   "cell_type": "code",
   "execution_count": 1,
   "metadata": {
    "executionInfo": {
     "elapsed": 352,
     "status": "ok",
     "timestamp": 1613487064326,
     "user": {
      "displayName": "Stephen Testa",
      "photoUrl": "",
      "userId": "00404523316858546529"
     },
     "user_tz": 300
    },
    "id": "psLDQdFZUjxY",
    "scrolled": true
   },
   "outputs": [
    {
     "name": "stderr",
     "output_type": "stream",
     "text": [
      "/home/steve/miniconda3/envs/fastai/lib/python3.8/site-packages/torch/cuda/__init__.py:52: UserWarning: CUDA initialization: Found no NVIDIA driver on your system. Please check that you have an NVIDIA GPU and installed a driver from http://www.nvidia.com/Download/index.aspx (Triggered internally at  /opt/conda/conda-bld/pytorch_1607370172916/work/c10/cuda/CUDAFunctions.cpp:100.)\n",
      "  return torch._C._cuda_getDeviceCount() > 0\n"
     ]
    }
   ],
   "source": [
    "from fastai.vision.all import *\n",
    "from fastai.vision.widgets import *"
   ]
  },
  {
   "cell_type": "code",
   "execution_count": 2,
   "metadata": {
    "colab": {
     "base_uri": "https://localhost:8080/"
    },
    "executionInfo": {
     "elapsed": 314,
     "status": "ok",
     "timestamp": 1613487348847,
     "user": {
      "displayName": "Stephen Testa",
      "photoUrl": "",
      "userId": "00404523316858546529"
     },
     "user_tz": 300
    },
    "id": "GrRsFQeHUrHJ",
    "outputId": "a918a008-5b36-4e1d-b841-c3180eece337"
   },
   "outputs": [],
   "source": [
    "# Get Path and check if we have model \n",
    "path = Path()\n",
    "\n",
    "# Load Learner \n",
    "learn_inf = load_learner(path/'export.pkl', cpu=True)"
   ]
  },
  {
   "cell_type": "code",
   "execution_count": 3,
   "metadata": {
    "executionInfo": {
     "elapsed": 370,
     "status": "ok",
     "timestamp": 1613488516237,
     "user": {
      "displayName": "Stephen Testa",
      "photoUrl": "",
      "userId": "00404523316858546529"
     },
     "user_tz": 300
    },
    "id": "mHZZVAyQXMga"
   },
   "outputs": [],
   "source": [
    "# Set up widgets \n",
    "btn_upload = widgets.FileUpload()\n",
    "out_pl = widgets.Output()\n",
    "lbl_pred = widgets.Label()"
   ]
  },
  {
   "cell_type": "code",
   "execution_count": 4,
   "metadata": {
    "executionInfo": {
     "elapsed": 365,
     "status": "ok",
     "timestamp": 1613488639575,
     "user": {
      "displayName": "Stephen Testa",
      "photoUrl": "",
      "userId": "00404523316858546529"
     },
     "user_tz": 300
    },
    "id": "4f3SiaEoYDYJ"
   },
   "outputs": [],
   "source": [
    "# Define \n",
    "def on_data_change(change): \n",
    "  lbl_pred.value = ''\n",
    "  img = PILImage.create(btn_upload.data[-1])\n",
    "  out_pl.clear_output()\n",
    "  with out_pl: display(img.to_thumb(128,128))\n",
    "  pred,pred_idx,probs = learn_inf.predict(img)\n",
    "  lbl_pred.value = f'Prediction: {pred}; Probability: {probs[pred_idx]:.04f}'"
   ]
  },
  {
   "cell_type": "code",
   "execution_count": 5,
   "metadata": {
    "executionInfo": {
     "elapsed": 383,
     "status": "ok",
     "timestamp": 1613488644414,
     "user": {
      "displayName": "Stephen Testa",
      "photoUrl": "",
      "userId": "00404523316858546529"
     },
     "user_tz": 300
    },
    "id": "6hzZzspwYklS"
   },
   "outputs": [],
   "source": [
    "btn_upload.observe(on_data_change, names=['data'])"
   ]
  },
  {
   "cell_type": "markdown",
   "metadata": {},
   "source": [
    "# Pizza Classifier \n",
    "Please upload an image of a cheese, pepperoni, or Hawaiian pizza (ham and pineapple). "
   ]
  },
  {
   "cell_type": "code",
   "execution_count": 6,
   "metadata": {
    "colab": {
     "base_uri": "https://localhost:8080/",
     "height": 241,
     "referenced_widgets": [
      "28751890e8af4346a68d168bf85e00cf",
      "8da8bcf51bd748dfaa1514dfb6533825",
      "98106d6fe424486e9d407341deaf497e",
      "0d89c61ececc4cfebc0856adf87ba6d0",
      "da29604ce2b54a8aa5f94d636a407726",
      "c3ed8fd74e244ddf83d0761e2dddc0f8",
      "000d3074327b43b8b3162aa0e866f6b2",
      "650b840da9b4437cacdf33a89e17e13b",
      "d50f8d71e86b430b9d0bc3e4a235f4ae",
      "bf48d904a267438b81a9dd5cc63bab59",
      "bfcc793044084dc6bf7a338683ad4be3",
      "6ea9533b2d5245f888f6b4e6d905f961",
      "e17dcb5e2ef64e8180293d571bff7e23"
     ]
    },
    "executionInfo": {
     "elapsed": 369,
     "status": "ok",
     "timestamp": 1613488653931,
     "user": {
      "displayName": "Stephen Testa",
      "photoUrl": "",
      "userId": "00404523316858546529"
     },
     "user_tz": 300
    },
    "id": "gQC2EZcbat-K",
    "outputId": "52ff2f45-7f3d-47f8-e156-92a8ce3eddd3"
   },
   "outputs": [
    {
     "data": {
      "application/vnd.jupyter.widget-view+json": {
       "model_id": "052e76e15da742659092594332d20c60",
       "version_major": 2,
       "version_minor": 0
      },
      "text/plain": [
       "VBox(children=(Label(value='Select your pizza!'), FileUpload(value={}, description='Upload'), Output(), Label(…"
      ]
     },
     "metadata": {},
     "output_type": "display_data"
    },
    {
     "data": {
      "text/html": [],
      "text/plain": [
       "<IPython.core.display.HTML object>"
      ]
     },
     "metadata": {},
     "output_type": "display_data"
    }
   ],
   "source": [
    "display(VBox([widgets.Label('Select your pizza!'), btn_upload, out_pl, lbl_pred]))"
   ]
  },
  {
   "cell_type": "code",
   "execution_count": null,
   "metadata": {},
   "outputs": [],
   "source": []
  }
 ],
 "metadata": {
  "colab": {
   "authorship_tag": "ABX9TyMz3rkUoP0j5Fz2jfTVmkNZ",
   "collapsed_sections": [],
   "name": "pizza_classifier_app.ipynb",
   "provenance": [
    {
     "file_id": "1GjO7fXC3thMx3mPcsl-AjLvU9CuWDgzn",
     "timestamp": 1613486544119
    }
   ]
  },
  "kernelspec": {
   "display_name": "Python 3",
   "language": "python",
   "name": "python3"
  },
  "language_info": {
   "codemirror_mode": {
    "name": "ipython",
    "version": 3
   },
   "file_extension": ".py",
   "mimetype": "text/x-python",
   "name": "python",
   "nbconvert_exporter": "python",
   "pygments_lexer": "ipython3",
   "version": "3.8.2"
  },
  "widgets": {
   "application/vnd.jupyter.widget-state+json": {
    "000d3074327b43b8b3162aa0e866f6b2": {
     "model_module": "@jupyter-widgets/controls",
     "model_name": "DescriptionStyleModel",
     "state": {
      "_model_module": "@jupyter-widgets/controls",
      "_model_module_version": "1.5.0",
      "_model_name": "DescriptionStyleModel",
      "_view_count": null,
      "_view_module": "@jupyter-widgets/base",
      "_view_module_version": "1.2.0",
      "_view_name": "StyleView",
      "description_width": ""
     }
    },
    "0d89c61ececc4cfebc0856adf87ba6d0": {
     "model_module": "@jupyter-widgets/controls",
     "model_name": "FileUploadModel",
     "state": {
      "_counter": 3,
      "_dom_classes": [],
      "_model_module": "@jupyter-widgets/controls",
      "_model_module_version": "1.5.0",
      "_model_name": "FileUploadModel",
      "_view_count": null,
      "_view_module": "@jupyter-widgets/controls",
      "_view_module_version": "1.5.0",
      "_view_name": "FileUploadView",
      "accept": "",
      "button_style": "",
      "data": [
       null
      ],
      "description": "Upload",
      "description_tooltip": null,
      "disabled": false,
      "error": "",
      "icon": "upload",
      "layout": "IPY_MODEL_bf48d904a267438b81a9dd5cc63bab59",
      "metadata": [
       {
        "lastModified": 1613489234452,
        "name": "pepproni.png",
        "size": 394108,
        "type": "image/png"
       }
      ],
      "multiple": false,
      "style": "IPY_MODEL_d50f8d71e86b430b9d0bc3e4a235f4ae"
     }
    },
    "28751890e8af4346a68d168bf85e00cf": {
     "model_module": "@jupyter-widgets/controls",
     "model_name": "VBoxModel",
     "state": {
      "_dom_classes": [],
      "_model_module": "@jupyter-widgets/controls",
      "_model_module_version": "1.5.0",
      "_model_name": "VBoxModel",
      "_view_count": null,
      "_view_module": "@jupyter-widgets/controls",
      "_view_module_version": "1.5.0",
      "_view_name": "VBoxView",
      "box_style": "",
      "children": [
       "IPY_MODEL_98106d6fe424486e9d407341deaf497e",
       "IPY_MODEL_0d89c61ececc4cfebc0856adf87ba6d0",
       "IPY_MODEL_da29604ce2b54a8aa5f94d636a407726",
       "IPY_MODEL_c3ed8fd74e244ddf83d0761e2dddc0f8"
      ],
      "layout": "IPY_MODEL_8da8bcf51bd748dfaa1514dfb6533825"
     }
    },
    "650b840da9b4437cacdf33a89e17e13b": {
     "model_module": "@jupyter-widgets/base",
     "model_name": "LayoutModel",
     "state": {
      "_model_module": "@jupyter-widgets/base",
      "_model_module_version": "1.2.0",
      "_model_name": "LayoutModel",
      "_view_count": null,
      "_view_module": "@jupyter-widgets/base",
      "_view_module_version": "1.2.0",
      "_view_name": "LayoutView",
      "align_content": null,
      "align_items": null,
      "align_self": null,
      "border": null,
      "bottom": null,
      "display": null,
      "flex": null,
      "flex_flow": null,
      "grid_area": null,
      "grid_auto_columns": null,
      "grid_auto_flow": null,
      "grid_auto_rows": null,
      "grid_column": null,
      "grid_gap": null,
      "grid_row": null,
      "grid_template_areas": null,
      "grid_template_columns": null,
      "grid_template_rows": null,
      "height": null,
      "justify_content": null,
      "justify_items": null,
      "left": null,
      "margin": null,
      "max_height": null,
      "max_width": null,
      "min_height": null,
      "min_width": null,
      "object_fit": null,
      "object_position": null,
      "order": null,
      "overflow": null,
      "overflow_x": null,
      "overflow_y": null,
      "padding": null,
      "right": null,
      "top": null,
      "visibility": null,
      "width": null
     }
    },
    "6ea9533b2d5245f888f6b4e6d905f961": {
     "model_module": "@jupyter-widgets/base",
     "model_name": "LayoutModel",
     "state": {
      "_model_module": "@jupyter-widgets/base",
      "_model_module_version": "1.2.0",
      "_model_name": "LayoutModel",
      "_view_count": null,
      "_view_module": "@jupyter-widgets/base",
      "_view_module_version": "1.2.0",
      "_view_name": "LayoutView",
      "align_content": null,
      "align_items": null,
      "align_self": null,
      "border": null,
      "bottom": null,
      "display": null,
      "flex": null,
      "flex_flow": null,
      "grid_area": null,
      "grid_auto_columns": null,
      "grid_auto_flow": null,
      "grid_auto_rows": null,
      "grid_column": null,
      "grid_gap": null,
      "grid_row": null,
      "grid_template_areas": null,
      "grid_template_columns": null,
      "grid_template_rows": null,
      "height": null,
      "justify_content": null,
      "justify_items": null,
      "left": null,
      "margin": null,
      "max_height": null,
      "max_width": null,
      "min_height": null,
      "min_width": null,
      "object_fit": null,
      "object_position": null,
      "order": null,
      "overflow": null,
      "overflow_x": null,
      "overflow_y": null,
      "padding": null,
      "right": null,
      "top": null,
      "visibility": null,
      "width": null
     }
    },
    "8da8bcf51bd748dfaa1514dfb6533825": {
     "model_module": "@jupyter-widgets/base",
     "model_name": "LayoutModel",
     "state": {
      "_model_module": "@jupyter-widgets/base",
      "_model_module_version": "1.2.0",
      "_model_name": "LayoutModel",
      "_view_count": null,
      "_view_module": "@jupyter-widgets/base",
      "_view_module_version": "1.2.0",
      "_view_name": "LayoutView",
      "align_content": null,
      "align_items": null,
      "align_self": null,
      "border": null,
      "bottom": null,
      "display": null,
      "flex": null,
      "flex_flow": null,
      "grid_area": null,
      "grid_auto_columns": null,
      "grid_auto_flow": null,
      "grid_auto_rows": null,
      "grid_column": null,
      "grid_gap": null,
      "grid_row": null,
      "grid_template_areas": null,
      "grid_template_columns": null,
      "grid_template_rows": null,
      "height": null,
      "justify_content": null,
      "justify_items": null,
      "left": null,
      "margin": null,
      "max_height": null,
      "max_width": null,
      "min_height": null,
      "min_width": null,
      "object_fit": null,
      "object_position": null,
      "order": null,
      "overflow": null,
      "overflow_x": null,
      "overflow_y": null,
      "padding": null,
      "right": null,
      "top": null,
      "visibility": null,
      "width": null
     }
    },
    "98106d6fe424486e9d407341deaf497e": {
     "model_module": "@jupyter-widgets/controls",
     "model_name": "LabelModel",
     "state": {
      "_dom_classes": [],
      "_model_module": "@jupyter-widgets/controls",
      "_model_module_version": "1.5.0",
      "_model_name": "LabelModel",
      "_view_count": null,
      "_view_module": "@jupyter-widgets/controls",
      "_view_module_version": "1.5.0",
      "_view_name": "LabelView",
      "description": "",
      "description_tooltip": null,
      "layout": "IPY_MODEL_650b840da9b4437cacdf33a89e17e13b",
      "placeholder": "​",
      "style": "IPY_MODEL_000d3074327b43b8b3162aa0e866f6b2",
      "value": "Select your bear!"
     }
    },
    "bf48d904a267438b81a9dd5cc63bab59": {
     "model_module": "@jupyter-widgets/base",
     "model_name": "LayoutModel",
     "state": {
      "_model_module": "@jupyter-widgets/base",
      "_model_module_version": "1.2.0",
      "_model_name": "LayoutModel",
      "_view_count": null,
      "_view_module": "@jupyter-widgets/base",
      "_view_module_version": "1.2.0",
      "_view_name": "LayoutView",
      "align_content": null,
      "align_items": null,
      "align_self": null,
      "border": null,
      "bottom": null,
      "display": null,
      "flex": null,
      "flex_flow": null,
      "grid_area": null,
      "grid_auto_columns": null,
      "grid_auto_flow": null,
      "grid_auto_rows": null,
      "grid_column": null,
      "grid_gap": null,
      "grid_row": null,
      "grid_template_areas": null,
      "grid_template_columns": null,
      "grid_template_rows": null,
      "height": null,
      "justify_content": null,
      "justify_items": null,
      "left": null,
      "margin": null,
      "max_height": null,
      "max_width": null,
      "min_height": null,
      "min_width": null,
      "object_fit": null,
      "object_position": null,
      "order": null,
      "overflow": null,
      "overflow_x": null,
      "overflow_y": null,
      "padding": null,
      "right": null,
      "top": null,
      "visibility": null,
      "width": null
     }
    },
    "bfcc793044084dc6bf7a338683ad4be3": {
     "model_module": "@jupyter-widgets/controls",
     "model_name": "DescriptionStyleModel",
     "state": {
      "_model_module": "@jupyter-widgets/controls",
      "_model_module_version": "1.5.0",
      "_model_name": "DescriptionStyleModel",
      "_view_count": null,
      "_view_module": "@jupyter-widgets/base",
      "_view_module_version": "1.2.0",
      "_view_name": "StyleView",
      "description_width": ""
     }
    },
    "c3ed8fd74e244ddf83d0761e2dddc0f8": {
     "model_module": "@jupyter-widgets/controls",
     "model_name": "LabelModel",
     "state": {
      "_dom_classes": [],
      "_model_module": "@jupyter-widgets/controls",
      "_model_module_version": "1.5.0",
      "_model_name": "LabelModel",
      "_view_count": null,
      "_view_module": "@jupyter-widgets/controls",
      "_view_module_version": "1.5.0",
      "_view_name": "LabelView",
      "description": "",
      "description_tooltip": null,
      "layout": "IPY_MODEL_6ea9533b2d5245f888f6b4e6d905f961",
      "placeholder": "​",
      "style": "IPY_MODEL_bfcc793044084dc6bf7a338683ad4be3",
      "value": "Prediction: pepperoni; Probability: 1.0000"
     }
    },
    "d50f8d71e86b430b9d0bc3e4a235f4ae": {
     "model_module": "@jupyter-widgets/controls",
     "model_name": "ButtonStyleModel",
     "state": {
      "_model_module": "@jupyter-widgets/controls",
      "_model_module_version": "1.5.0",
      "_model_name": "ButtonStyleModel",
      "_view_count": null,
      "_view_module": "@jupyter-widgets/base",
      "_view_module_version": "1.2.0",
      "_view_name": "StyleView",
      "button_color": null,
      "font_weight": ""
     }
    },
    "da29604ce2b54a8aa5f94d636a407726": {
     "model_module": "@jupyter-widgets/output",
     "model_name": "OutputModel",
     "state": {
      "_dom_classes": [],
      "_model_module": "@jupyter-widgets/output",
      "_model_module_version": "1.0.0",
      "_model_name": "OutputModel",
      "_view_count": null,
      "_view_module": "@jupyter-widgets/output",
      "_view_module_version": "1.0.0",
      "_view_name": "OutputView",
      "layout": "IPY_MODEL_e17dcb5e2ef64e8180293d571bff7e23",
      "msg_id": "",
      "outputs": [
       {
        "image/png": "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\n",
        "metadata": {
         "tags": []
        },
        "output_type": "display_data",
        "text/plain": "<PIL.Image.Image image mode=RGB size=128x128 at 0x7F0A21500BE0>"
       }
      ]
     }
    },
    "e17dcb5e2ef64e8180293d571bff7e23": {
     "model_module": "@jupyter-widgets/base",
     "model_name": "LayoutModel",
     "state": {
      "_model_module": "@jupyter-widgets/base",
      "_model_module_version": "1.2.0",
      "_model_name": "LayoutModel",
      "_view_count": null,
      "_view_module": "@jupyter-widgets/base",
      "_view_module_version": "1.2.0",
      "_view_name": "LayoutView",
      "align_content": null,
      "align_items": null,
      "align_self": null,
      "border": null,
      "bottom": null,
      "display": null,
      "flex": null,
      "flex_flow": null,
      "grid_area": null,
      "grid_auto_columns": null,
      "grid_auto_flow": null,
      "grid_auto_rows": null,
      "grid_column": null,
      "grid_gap": null,
      "grid_row": null,
      "grid_template_areas": null,
      "grid_template_columns": null,
      "grid_template_rows": null,
      "height": null,
      "justify_content": null,
      "justify_items": null,
      "left": null,
      "margin": null,
      "max_height": null,
      "max_width": null,
      "min_height": null,
      "min_width": null,
      "object_fit": null,
      "object_position": null,
      "order": null,
      "overflow": null,
      "overflow_x": null,
      "overflow_y": null,
      "padding": null,
      "right": null,
      "top": null,
      "visibility": null,
      "width": null
     }
    }
   }
  }
 },
 "nbformat": 4,
 "nbformat_minor": 1
}
